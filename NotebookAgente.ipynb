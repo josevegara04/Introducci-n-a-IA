{
 "cells": [
  {
   "cell_type": "markdown",
   "id": "18940349",
   "metadata": {},
   "source": [
    "CHEF GENIUS\n"
   ]
  },
  {
   "cell_type": "code",
   "execution_count": 37,
   "id": "78540e69-e6b2-4a62-9297-23dd4ff32f56",
   "metadata": {},
   "outputs": [
    {
     "ename": "ModuleNotFoundError",
     "evalue": "No module named 'mesa'",
     "output_type": "error",
     "traceback": [
      "\u001b[1;31m---------------------------------------------------------------------------\u001b[0m",
      "\u001b[1;31mModuleNotFoundError\u001b[0m                       Traceback (most recent call last)",
      "Cell \u001b[1;32mIn[37], line 1\u001b[0m\n\u001b[1;32m----> 1\u001b[0m \u001b[38;5;28;01mfrom\u001b[39;00m \u001b[38;5;21;01mmesa\u001b[39;00m \u001b[38;5;28;01mimport\u001b[39;00m Agent,Model\n",
      "\u001b[1;31mModuleNotFoundError\u001b[0m: No module named 'mesa'"
     ]
    }
   ],
   "source": [
    "from mesa import Agent,Model"
   ]
  },
  {
   "cell_type": "code",
   "execution_count": null,
   "id": "b9cae18a-91a2-4846-860d-e22be2acef63",
   "metadata": {},
   "outputs": [],
   "source": [
    "class Agent_CG(Agent):\n",
    "    def __init__(self):\n",
    "        print('¡Hola! Soy ChefGenius, ¿en qué puedo ayudarte el día de hoy?') "
   ]
  },
  {
   "cell_type": "code",
   "execution_count": null,
   "id": "804b9690-90c5-41ee-9890-6a0d7d42986b",
   "metadata": {},
   "outputs": [],
   "source": [
    "class Model_CG(Model):\n",
    "    def __init__(self):\n",
    "        agent = Agent_CG()"
   ]
  },
  {
   "cell_type": "code",
   "execution_count": null,
   "id": "dbae0614-4e8a-4959-acf0-7ec7faad208c",
   "metadata": {},
   "outputs": [
    {
     "name": "stdout",
     "output_type": "stream",
     "text": [
      "¡Hola! Soy ChefGenius, ¿en qué puedo ayudarte el día de hoy?\n"
     ]
    }
   ],
   "source": [
    "CG = Model_CG()"
   ]
  },
  {
   "cell_type": "markdown",
   "id": "a86d2b57",
   "metadata": {},
   "source": [
    "DESARROLLO ALGORITMO DE BÚSQUEDA\n",
    "\n",
    "1) Primero, crearemos la clase Nodo para representar cada una de las recetas"
   ]
  },
  {
   "cell_type": "code",
   "execution_count": 50,
   "id": "aab0503e",
   "metadata": {},
   "outputs": [],
   "source": [
    "import heapq\n",
    "\n",
    "class Nodo:\n",
    "    def __init__(self, nombre, ingredientes, metodo, tiempo, restricciones, costo=0):\n",
    "        self.nombre = nombre\n",
    "        self.ingredientes = ingredientes \n",
    "        self.metodo = metodo  \n",
    "        self.tiempo = tiempo \n",
    "        self.restricciones = restricciones  \n",
    "        self.costo = costo  \n",
    "        self.padre = None  \n",
    "    \n",
    "    def __lt__(self, otro):\n",
    "        return self.costo < otro.costo"
   ]
  },
  {
   "cell_type": "markdown",
   "id": "5e943562",
   "metadata": {},
   "source": [
    "2) Ahora, se crea la función que determina la heurística de cada Nodo (receta)"
   ]
  },
  {
   "cell_type": "code",
   "execution_count": 51,
   "id": "a175499c",
   "metadata": {},
   "outputs": [],
   "source": [
    "def heuristica(nodo, preferencias_usuario):\n",
    "    penalizacion = 0\n",
    "    \n",
    "    \n",
    "    for restriccion in nodo.restricciones:\n",
    "        if restriccion in preferencias_usuario['restricciones']:\n",
    "            penalizacion += 10  \n",
    "\n",
    "    if nodo.tiempo > preferencias_usuario['max_tiempo']:\n",
    "        penalizacion += (nodo.tiempo - preferencias_usuario['max_tiempo']) * 2\n",
    "    \n",
    "    for ingrediente in nodo.ingredientes:\n",
    "        if ingrediente not in preferencias_usuario['ingredientes_disponibles']:\n",
    "            penalizacion += 5 \n",
    "    \n",
    "    return penalizacion"
   ]
  },
  {
   "cell_type": "markdown",
   "id": "5485360c",
   "metadata": {},
   "source": [
    "3. Se implementa la función la cual devuelve el camino recorrido para llegar hasta la receta final"
   ]
  },
  {
   "cell_type": "code",
   "execution_count": 52,
   "id": "0c4ee138",
   "metadata": {},
   "outputs": [],
   "source": [
    "def reconstruir_camino(nodo):\n",
    "    camino = []\n",
    "    while nodo is not None:\n",
    "        camino.append(nodo.nombre)\n",
    "        nodo = nodo.padre\n",
    "    return camino[::-1]"
   ]
  },
  {
   "cell_type": "markdown",
   "id": "3a49e787",
   "metadata": {},
   "source": [
    "4. Luego, implementamos el algoritmo \"A star\" o A*, el cual hará una búsqueda por todas las recetas, que tengan una heurística menor, para llegar a la mejor receta posible teniendo en cuenta las preferencias, restricciones y alimentos yu utensilios disponibles por el usuario.\n"
   ]
  },
  {
   "cell_type": "code",
   "execution_count": 53,
   "id": "02c518d8",
   "metadata": {},
   "outputs": [],
   "source": [
    "def a_star(inicial, recetas, preferencias_usuario):\n",
    "    cola_prioridad = []\n",
    "    lista_recetas = []\n",
    "    recorridos = {}\n",
    "    \n",
    "    heapq.heappush(cola_prioridad, (0, inicial))\n",
    "    \n",
    "    visitados = set()\n",
    "    \n",
    "    while cola_prioridad:\n",
    "        costo_actual, nodo_actual = heapq.heappop(cola_prioridad)\n",
    "        \n",
    "        if heuristica(nodo_actual, preferencias_usuario) == 0:\n",
    "            lista_recetas.append(nodo_actual.nombre)\n",
    "            recorridos[nodo_actual.nombre] = reconstruir_camino(nodo_actual)\n",
    "        visitados.add(nodo_actual.nombre)\n",
    "        \n",
    "        for receta in recetas:\n",
    "            if receta.nombre not in visitados:\n",
    "                nuevo_costo = costo_actual + heuristica(receta, preferencias_usuario)\n",
    "                receta.costo = nuevo_costo\n",
    "                receta.padre = nodo_actual\n",
    "                heapq.heappush(cola_prioridad, (nuevo_costo, receta))\n",
    "    \n",
    "    if lista_recetas:\n",
    "        return lista_recetas, recorridos\n",
    "    else:\n",
    "        return None  "
   ]
  },
  {
   "cell_type": "markdown",
   "id": "d0a14c01",
   "metadata": {},
   "source": [
    "5) Ahora, pondremos las recetas y las preferencias del usuario para poder ejecutar el algoritmo\n"
   ]
  },
  {
   "cell_type": "code",
   "execution_count": 56,
   "id": "e7fa51a7",
   "metadata": {},
   "outputs": [],
   "source": [
    "recetas = [\n",
    "    Nodo('Ensalada', ['lechuga', 'tomate', 'aceite'], 'crudo', 20, ['vegano']),\n",
    "    Nodo('Pizza', ['harina', 'queso', 'tomate'], 'horneado', 20, ['sin gluten']),\n",
    "    Nodo('Sopa', ['zanahoria', 'papa', 'agua'], 'hervido', 20, ['vegetariano']),\n",
    "    Nodo('Tacos', ['tortilla', 'carne', 'aguacate'], 'frito', 15, ['sin gluten', 'carnívoro']),\n",
    "]\n",
    "\n",
    "preferencias_usuario = {\n",
    "    'ingredientes_disponibles': ['zanahoria', 'papa', 'agua'],\n",
    "    'restricciones': ['sin salsa'],\n",
    "    'max_tiempo': 30\n",
    "}"
   ]
  },
  {
   "cell_type": "markdown",
   "id": "44900107",
   "metadata": {},
   "source": [
    "6) Por último, ejecutaremos el código "
   ]
  },
  {
   "cell_type": "code",
   "execution_count": 57,
   "id": "628253b9",
   "metadata": {},
   "outputs": [
    {
     "name": "stdout",
     "output_type": "stream",
     "text": [
      "Recetas disponibles: \n",
      "Ensalada\n",
      "Pizza\n",
      "Sopa\n",
      "Tacos\n",
      "-----------\n",
      "Recetas sugeridas:\n",
      "Nombre:  Sopa\n",
      "Camino recorrido:  ['Ensalada', 'Sopa']\n"
     ]
    }
   ],
   "source": [
    "receta_inicial = recetas[0]  \n",
    "lista_recetas, lista_caminos_optimos = a_star(receta_inicial, recetas, preferencias_usuario)\n",
    "\n",
    "if lista_recetas and lista_caminos_optimos:\n",
    "    print(\"Recetas disponibles: \")\n",
    "    for receta in recetas:\n",
    "        print(receta.nombre)\n",
    "    print(\"-----------\")\n",
    "    print(\"Recetas sugeridas:\")\n",
    "    for r in lista_recetas:\n",
    "        print(\"Nombre: \", r)\n",
    "        print(\"Camino recorrido: \", lista_caminos_optimos[r])\n",
    "else:\n",
    "    print(\"No se encontraron recetas que cumplan con las preferencias del usuario.\")"
   ]
  }
 ],
 "metadata": {
  "kernelspec": {
   "display_name": "Python 3 (ipykernel)",
   "language": "python",
   "name": "python3"
  },
  "language_info": {
   "codemirror_mode": {
    "name": "ipython",
    "version": 3
   },
   "file_extension": ".py",
   "mimetype": "text/x-python",
   "name": "python",
   "nbconvert_exporter": "python",
   "pygments_lexer": "ipython3",
   "version": "3.12.4"
  }
 },
 "nbformat": 4,
 "nbformat_minor": 5
}
