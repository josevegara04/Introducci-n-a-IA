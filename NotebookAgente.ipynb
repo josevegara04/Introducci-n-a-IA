{
 "cells": [
  {
   "cell_type": "markdown",
   "id": "e726388c",
   "metadata": {},
   "source": [
    "ChefGenius "
   ]
  },
  {
   "cell_type": "code",
   "execution_count": 1,
   "id": "78540e69-e6b2-4a62-9297-23dd4ff32f56",
   "metadata": {},
   "outputs": [],
   "source": [
    "from mesa import Agent,Model"
   ]
  },
  {
   "cell_type": "code",
   "execution_count": 3,
   "id": "b9cae18a-91a2-4846-860d-e22be2acef63",
   "metadata": {},
   "outputs": [],
   "source": [
    "class Agent_CG(Agent):\n",
    "    def __init__(self):\n",
    "        print('¡Hola! Soy ChefGenius, ¿en qué puedo ayudarte el día de hoy?') "
   ]
  },
  {
   "cell_type": "code",
   "execution_count": 4,
   "id": "804b9690-90c5-41ee-9890-6a0d7d42986b",
   "metadata": {},
   "outputs": [],
   "source": [
    "class Model_CG(Model):\n",
    "    def __init__(self):\n",
    "        agent = Agent_CG()"
   ]
  },
  {
   "cell_type": "code",
   "execution_count": 5,
   "id": "dbae0614-4e8a-4959-acf0-7ec7faad208c",
   "metadata": {},
   "outputs": [
    {
     "name": "stdout",
     "output_type": "stream",
     "text": [
      "¡Hola! Soy ChefGenius, ¿en qué puedo ayudarte el día de hoy?\n"
     ]
    }
   ],
   "source": [
    "CG = Model_CG()"
   ]
  }
 ],
 "metadata": {
  "kernelspec": {
   "display_name": "Python 3 (ipykernel)",
   "language": "python",
   "name": "python3"
  },
  "language_info": {
   "codemirror_mode": {
    "name": "ipython",
    "version": 3
   },
   "file_extension": ".py",
   "mimetype": "text/x-python",
   "name": "python",
   "nbconvert_exporter": "python",
   "pygments_lexer": "ipython3",
   "version": "3.12.4"
  }
 },
 "nbformat": 4,
 "nbformat_minor": 5
}
